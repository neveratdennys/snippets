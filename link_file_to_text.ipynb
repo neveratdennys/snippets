{
  "nbformat": 4,
  "nbformat_minor": 0,
  "metadata": {
    "colab": {
      "name": "link file to text.ipynb",
      "provenance": [],
      "authorship_tag": "ABX9TyPxEt1PhLrCQTzzlvoaWiuM",
      "include_colab_link": true
    },
    "kernelspec": {
      "name": "python3",
      "display_name": "Python 3"
    },
    "language_info": {
      "name": "python"
    }
  },
  "cells": [
    {
      "cell_type": "markdown",
      "metadata": {
        "id": "view-in-github",
        "colab_type": "text"
      },
      "source": [
        "<a href=\"https://colab.research.google.com/github/neveratdennys/snippets/blob/main/link_file_to_text.ipynb\" target=\"_parent\"><img src=\"https://colab.research.google.com/assets/colab-badge.svg\" alt=\"Open In Colab\"/></a>"
      ]
    },
    {
      "cell_type": "code",
      "execution_count": 17,
      "metadata": {
        "id": "EmJ6EYxhbvgf"
      },
      "outputs": [],
      "source": [
        "import re\n",
        "\n",
        "filename = \"html.txt\"\n",
        "with open(filename, 'r') as f:\n",
        "    line = f.readlines()\n",
        "\n",
        "linkurl = \"<a href=\\\"/sites/default/files/documents/Ugrad/PastExams/\"\n",
        "outtext = []\n",
        "\n",
        "# cycle through the block\n",
        "for txt in line:\n",
        "\n",
        "  # record course number\n",
        "  keyword = \"Math \"\n",
        "  if keyword in txt:\n",
        "    course = txt[txt.index(keyword) + len(keyword):].split(\"<\")[0]  # split until \"<\"\n",
        " \n",
        "  keyword = \"<\"\n",
        "  if keyword in txt:\n",
        "    #for word in re.findall(r'(20...T.)',txt):\n",
        "    outtext = outtext + [re.sub('(20...T.|20...T.\\(.+\\))', linkurl+\"math\"+course+\"/\"+course+\"_\"+r'\\1'+\".pdf\\\" target=\\\"_blank\\\">\"+r'\\1'+\"</a>\", txt)]\n",
        "    #print(re.sub('(20...T.|20...T.\\(.+\\))', linkurl+\"math\"+course+\"/\"+course+\"_\"+r'\\1'+\".pdf target=\\\"_blank\\\">\"+r'\\1'+\"</a>\", txt))\n",
        "  else:\n",
        "    outtext = outtext + [txt]\n",
        "\n",
        "# write output\n",
        "with open(\"output.txt\", \"w\") as o:\n",
        "  o.write(\"\".join(outtext))\n",
        "\n"
      ]
    }
  ]
}